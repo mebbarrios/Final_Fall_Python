{
 "cells": [
  {
   "cell_type": "code",
   "execution_count": null,
   "metadata": {},
   "outputs": [],
   "source": [
    "## TRIVIA GAME, OR GAME OF MEMORY.\n",
    "\n",
    "## GAME TO TEACH PARENTS TO TALK TO THEIR CHILDREN, TEACH LANGUAGES, \n",
    "import numpy as np\n",
    "import pandas as pd\n",
    "from pandas import ExcelWriter\n",
    "from pandas import ExcelFile\n",
    "import sys\n",
    "import random\n",
    "from sklearn.utils import shuffle\n",
    "\n",
    "df = pd.read_excel('trivia_project.xlsx', sheet_name= 'Sheet1')\n",
    "df = shuffle(df)\n",
    "\n",
    "df\n",
    "\n",
    "\n",
    "\n",
    "\n"
   ]
  },
  {
   "cell_type": "code",
   "execution_count": null,
   "metadata": {},
   "outputs": [],
   "source": [
    "\n",
    "        \n",
    "def trivia():\n",
    "    score = 0\n",
    "    wrong= 0\n",
    "\n",
    "    for index,row in df.iterrows():\n",
    "        print (row['Question'])\n",
    "        print(row['Answer A'])\n",
    "        print(row['Answer B'])\n",
    "        print(row['Answer C'])\n",
    "        print(row['Answer D'])\n",
    "        print(row['Answer E'])\n",
    "        user_answer = input().lower()\n",
    "        if user_answer in row['Correct Answer']:\n",
    "            score += 1\n",
    "            print( score,'answers are correct'  )\n",
    "        else:\n",
    "            print('Incorrect, the correct answer is: ', row['Correct Answer'])\n",
    "\n",
    "            \n",
    "if __name__ == '__main__':\n",
    "    trivia()\n",
    "    print('This is the end of the game')\n",
    "\n",
    "\n",
    "\n",
    "\n",
    "     "
   ]
  },
  {
   "cell_type": "code",
   "execution_count": null,
   "metadata": {},
   "outputs": [],
   "source": []
  },
  {
   "cell_type": "code",
   "execution_count": null,
   "metadata": {},
   "outputs": [],
   "source": []
  }
 ],
 "metadata": {
  "kernelspec": {
   "display_name": "Python 3",
   "language": "python",
   "name": "python3"
  },
  "language_info": {
   "codemirror_mode": {
    "name": "ipython",
    "version": 3
   },
   "file_extension": ".py",
   "mimetype": "text/x-python",
   "name": "python",
   "nbconvert_exporter": "python",
   "pygments_lexer": "ipython3",
   "version": "3.6.5"
  }
 },
 "nbformat": 4,
 "nbformat_minor": 2
}
